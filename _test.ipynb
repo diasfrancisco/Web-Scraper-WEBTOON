{
 "cells": [
  {
   "cell_type": "code",
   "execution_count": null,
   "metadata": {},
   "outputs": [],
   "source": [
    "from selenium import webdriver\n",
    "\n",
    "browser = webdriver.Chrome()\n",
    "url = \"https://www.webtoons.com/en/romance/letsplay/ep-168/viewer?title_no=1218&episode_no=176\""
   ]
  },
  {
   "cell_type": "code",
   "execution_count": null,
   "metadata": {},
   "outputs": [],
   "source": [
    "url = \"https://www.webtoons.com/en/romance/letsplay/ep-168/viewer?title_no=1218&episode_no=176\"\n",
    "split_url = url.split(\"/\")[5]\n",
    "print(split_url)"
   ]
  },
  {
   "cell_type": "code",
   "execution_count": null,
   "metadata": {},
   "outputs": [],
   "source": [
    "import json\n",
    "import os\n",
    "\n",
    "if os.path.isfile('test_file.json'):\n",
    "    pass\n",
    "else:\n",
    "    with open('test_file.json', 'w') as f:\n",
    "        json.dump([], f)\n",
    "        f.close()\n",
    "\n",
    "with open('test_file.json', 'r') as f:\n",
    "    data = json.load(f)\n",
    "    print(type(data))\n",
    "\n",
    "data.append('old')\n",
    "\n",
    "with open('test_file.json', 'w') as f:\n",
    "    json.dump(data, f)"
   ]
  },
  {
   "cell_type": "code",
   "execution_count": null,
   "metadata": {},
   "outputs": [],
   "source": [
    "str1 = '/home/cisco/GitLocal/Web-Scraper/raw_data/genres_and_webtoon_urls'\n",
    "print(str1 + '/genres.py')"
   ]
  },
  {
   "cell_type": "code",
   "execution_count": null,
   "metadata": {},
   "outputs": [],
   "source": [
    "import json\n",
    "import os\n",
    "\n",
    "genres = [\"DRAMA\", \"FANTASY\", \"SCI-FI\"]\n",
    "gen1 = genres[0]\n",
    "\n",
    "animals = [\"Dog\", \"Cat\", \"Mouse\"]\n",
    "\n",
    "\n",
    "if os.path.isfile('webtoon_urls.json'):\n",
    "    pass\n",
    "else:\n",
    "    with open('webtoon_urls.json', 'w') as f:\n",
    "        json.dump({}, f)\n",
    "\n",
    "with open('webtoon_urls.json', 'r') as f:\n",
    "    dict_of_wbt_links = json.load(f)\n",
    "\n",
    "with open('webtoon_urls.json', 'w') as f:\n",
    "    try:\n",
    "        genre_links = dict_of_wbt_links[gen1]\n",
    "        pass\n",
    "    except KeyError:\n",
    "        print(f'Current links = Empty')\n",
    "        dict_of_wbt_links[gen1] = []\n",
    "    \n",
    "    json.dump(dict_of_wbt_links, f)\n",
    "    \n",
    "    print(f'Links = {genre_links}')\n",
    "\n",
    "    # for animal in animals:\n",
    "    #     if animal in genre_links:\n",
    "    #         continue\n",
    "    #     else:\n",
    "    #         genre_links.append(animal)\n",
    "\n"
   ]
  },
  {
   "cell_type": "code",
   "execution_count": null,
   "metadata": {},
   "outputs": [],
   "source": [
    "import json\n",
    "\n",
    "with open('raw_data/genres_and_webtoon_urls/webtoon_urls.json', 'r') as f:\n",
    "    maindict = json.load(f)\n",
    "\n",
    "total = 0\n",
    "\n",
    "for key, value in maindict.items():\n",
    "    print(f'{key} | {len(value)}')\n",
    "    total = total + len(value)\n",
    "\n",
    "print(f'\\nTotal = {total}')"
   ]
  },
  {
   "cell_type": "code",
   "execution_count": null,
   "metadata": {},
   "outputs": [],
   "source": [
    "url = 'https://www.webtoons.com/en/romance/letsplay/list?title_no=1218'\n",
    "\n",
    "name = url.split(\"/\")[5]\n",
    "print(name)"
   ]
  },
  {
   "cell_type": "code",
   "execution_count": null,
   "metadata": {},
   "outputs": [],
   "source": [
    "import json\n",
    "from requests_futures.sessions import FuturesSession\n",
    "\n",
    "with open('/home/cisco/GitLocal/Web-Scraper/raw_data/genres_and_webtoon_urls/webtoon_urls.json', 'r') as f:\n",
    "    webtoon_dict = json.load(f)\n",
    "\n",
    "for urls in webtoon_dict.values():\n",
    "    with FuturesSession(max_workers=50) as session:\n",
    "        futures = [session.get(url) for url in urls]\n",
    "        for future in futures:\n",
    "            resp = future.result()\n",
    "            if resp.status_code == 200:\n",
    "                print(resp)"
   ]
  },
  {
   "cell_type": "code",
   "execution_count": null,
   "metadata": {},
   "outputs": [],
   "source": [
    "import requests\n",
    "\n",
    "\n",
    "url = requests.get('https://www.webtoons.com/en/romance/love-doesnt-talk/list?title_no=2140')\n",
    "print(url.status_code)"
   ]
  },
  {
   "cell_type": "code",
   "execution_count": null,
   "metadata": {},
   "outputs": [],
   "source": [
    "import json\n",
    "from concurrent.futures import ThreadPoolExecutor\n",
    "\n",
    "with open('/home/cisco/GitLocal/Web-Scraper/raw_data/genres_and_webtoon_urls/webtoon_urls.json', 'r') as f:\n",
    "    webtoon_dict = json.load(f)\n",
    "\n",
    "def func(urls):\n",
    "    with FuturesSession(max_workers=50) as session:\n",
    "        futures = [session.get(url) for url in urls]\n",
    "    return futures\n",
    "\n",
    "for urls in webtoon_dict.values():\n",
    "    with ThreadPoolExecutor(max_workers=50) as executor:\n",
    "        futures = executor.submit(func, urls)\n",
    "        print(futures.result())"
   ]
  },
  {
   "cell_type": "code",
   "execution_count": null,
   "metadata": {},
   "outputs": [],
   "source": [
    "import json\n",
    "import requests\n",
    "\n",
    "def main(urls):\n",
    "    for url in urls:\n",
    "        requests.get(url)\n",
    "\n",
    "with open('/home/cisco/GitLocal/Web-Scraper/raw_data/genres_and_webtoon_urls/webtoon_urls.json', 'r') as f:\n",
    "    webtoon_dict = json.load(f)\n",
    "\n",
    "for urls in webtoon_dict.values():\n",
    "    main(urls)"
   ]
  },
  {
   "cell_type": "code",
   "execution_count": null,
   "metadata": {},
   "outputs": [],
   "source": [
    "import json\n",
    "import asyncio\n",
    "import aiohttp\n",
    "\n",
    "async def get_page(session, url):\n",
    "    async with session.get(url) as r:\n",
    "        return await r.text()\n",
    "\n",
    "async def get_all(session, urls):\n",
    "    tasks = []\n",
    "    for url in urls:\n",
    "        task = asyncio.create_task(get_page(session, url))\n",
    "        tasks.append(task)\n",
    "    results = await asyncio.gather(*tasks)\n",
    "    return results\n",
    "\n",
    "async def main(urls):\n",
    "    async with aiohttp.ClientSession as session:\n",
    "        data = await get_all(session, urls)\n",
    "        return await data\n",
    "\n",
    "if __name__==\"__main__\":\n",
    "    results = asyncio.run(main(urls))"
   ]
  },
  {
   "cell_type": "code",
   "execution_count": null,
   "metadata": {},
   "outputs": [],
   "source": [
    "author = []\n",
    "\n",
    "name = \"Francisco Ryan Dias author info\"\n",
    "\n",
    "author.append(name[:-12])\n",
    "print(author)"
   ]
  },
  {
   "cell_type": "code",
   "execution_count": null,
   "metadata": {},
   "outputs": [],
   "source": [
    "from multiprocessing import cpu_count\n",
    "\n",
    "print(cpu_count())"
   ]
  },
  {
   "cell_type": "code",
   "execution_count": null,
   "metadata": {},
   "outputs": [],
   "source": [
    "str1 = '#180'\n",
    "\n",
    "str2 = str1[1:]\n",
    "print(str2)\n",
    "print(type(str2))\n",
    "\n",
    "int1 = int(str1[1:])\n",
    "print(type(int1))\n",
    "\n",
    "if int1 < 180:\n",
    "    print(\"Under 180\")\n",
    "else:\n",
    "    print(\"Not under 180\")"
   ]
  },
  {
   "cell_type": "code",
   "execution_count": null,
   "metadata": {},
   "outputs": [],
   "source": [
    "listofints = [1, 3, 6, 7, 3 , 6, 9, 4, 7]\n",
    "\n",
    "startnum = 10\n",
    "\n",
    "while startnum >= 1:\n",
    "    for int in listofints:\n",
    "        if int == 1 or 3 or 6 or 7 or 4:\n",
    "            pass\n",
    "        else:\n",
    "            break\n",
    "    print(\"Not broken\")\n",
    "    startnum -= 1\n",
    "\n",
    "print(\"Broke at 9\")\n",
    "print(startnum)"
   ]
  },
  {
   "cell_type": "code",
   "execution_count": 5,
   "metadata": {},
   "outputs": [
    {
     "name": "stdout",
     "output_type": "stream",
     "text": [
      "3\n",
      "2\n",
      "1\n",
      "0\n"
     ]
    }
   ],
   "source": [
    "str1 = '171'\n",
    "str2 = '99'\n",
    "str3 = '1'\n",
    "str4 = ''\n",
    "\n",
    "print(len(str1))\n",
    "print(len(str2))\n",
    "print(len(str3))\n",
    "print(len(str4))"
   ]
  }
 ],
 "metadata": {
  "kernelspec": {
   "display_name": "Python 3.10.4 ('web_scraper')",
   "language": "python",
   "name": "python3"
  },
  "language_info": {
   "codemirror_mode": {
    "name": "ipython",
    "version": 3
   },
   "file_extension": ".py",
   "mimetype": "text/x-python",
   "name": "python",
   "nbconvert_exporter": "python",
   "pygments_lexer": "ipython3",
   "version": "3.10.4"
  },
  "orig_nbformat": 4,
  "vscode": {
   "interpreter": {
    "hash": "e3b33da64923e0e5f4beadfbdb10e72fca4d21754a56fb4989d99e15b229c545"
   }
  }
 },
 "nbformat": 4,
 "nbformat_minor": 2
}
